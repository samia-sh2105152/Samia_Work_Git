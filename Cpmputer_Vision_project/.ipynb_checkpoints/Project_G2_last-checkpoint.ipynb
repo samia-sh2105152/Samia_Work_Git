{
 "cells": [
  {
   "cell_type": "markdown",
   "id": "97285689-8e0f-4594-a74d-8275605b77ad",
   "metadata": {},
   "source": [
    "<h1 style=\"text-align: center;font-weight: bold;\">Design and Implementation of a CNN-Based OCR System for License Plate Recognition in Qatar</h1>\n",
    "<h4 style=\"text-align: center;\">Group #2</h3>\n",
    "<table>\n",
    "  <tr>\n",
    "    <th>Student Name</th>\n",
    "    <th>QU ID</th>\n",
    "  </tr>\n",
    "  <tr>\n",
    "    <td>Aisha Al-Shahwani</td>\n",
    "    <td>202005623</td>\n",
    "  </tr>\n",
    "  <tr>\n",
    "    <td>Abir Sidilemine</td>\n",
    "    <td>202104894</td>\n",
    "  </tr>\n",
    "  <tr>\n",
    "    <td>Samia Hasan</td>\n",
    "    <td>202105152</td>\n",
    "  </tr>\n",
    "  <tr>\n",
    "    <td>Shaima Nasser</td>\n",
    "    <td>202004047</td>\n",
    "  </tr>\n",
    "  <tr>\n",
    "    <td>Zobia Zia</td>\n",
    "    <td>202108274</td>\n",
    "  </tr>\n",
    "</table>"
   ]
  },
  {
   "cell_type": "markdown",
   "id": "f7bfa6c9-7e95-437f-9787-f0c4ae8c0239",
   "metadata": {},
   "source": [
    "<b>Step 1: Set Up the Environment</b>"
   ]
  },
  {
   "cell_type": "code",
   "execution_count": 41,
   "id": "69fee683-0cbf-4f58-bc09-682a2908b09f",
   "metadata": {},
   "outputs": [],
   "source": [
    "# Clone YOLOv5 Repository: Open your terminal and run\n",
    "#git clone https://github.com/ultralytics/yolov5\n",
    "\n",
    "# Navigate to YOLOv5 Directory:\n",
    "#cd /Users/raisa_hasan/Desktop/Computer Vision/Project  # Adjust path if necessary\n",
    "\n",
    "# Install Dependencies:\n",
    "#pip install -r requirements.txt\n",
    "\n",
    "# Download YOLOv5 Weights Manually: \n",
    "#curl -L -o yolov5s.pt https://github.com/ultralytics/yolov5/releases/download/v6.0/yolov5s.pt"
   ]
  },
  {
   "cell_type": "markdown",
   "id": "b1651397-c6bd-48a0-aa24-f297b9093d38",
   "metadata": {},
   "source": [
    "<b>Step 2: Load the YOLOv5 Model</b>"
   ]
  },
  {
   "cell_type": "code",
   "execution_count": 23,
   "id": "c59802b0-e8d1-43e1-bf36-8a0b29ba76c3",
   "metadata": {},
   "outputs": [
    {
     "name": "stderr",
     "output_type": "stream",
     "text": [
      "fatal: cannot change to '/Users/raisa_hasan/Desktop/Computer': No such file or directory\n",
      "YOLOv5 🚀 2024-11-16 Python-3.12.4 torch-2.5.1 CPU\n",
      "\n",
      "Fusing layers... \n",
      "YOLOv5m summary: 290 layers, 21172173 parameters, 0 gradients, 48.9 GFLOPs\n",
      "Adding AutoShape... \n"
     ]
    },
    {
     "name": "stdout",
     "output_type": "stream",
     "text": [
      "YOLOv5 model loaded successfully.\n"
     ]
    }
   ],
   "source": [
    "import torch\n",
    "\n",
    "# Load YOLOv5 model with the path to the repository and weights file\n",
    "model = torch.hub.load(\n",
    "    r'/Users/raisa_hasan/Desktop/Computer Vision/Project/yolov5',  # Repository path\n",
    "    'custom', \n",
    "    path=r'/Users/raisa_hasan/Desktop/Computer Vision/Project/yolov5m.pt',  # Weights file path\n",
    "    source='local', \n",
    "    force_reload=True\n",
    ")\n",
    "\n",
    "print(\"YOLOv5 model loaded successfully.\")\n"
   ]
  },
  {
   "cell_type": "markdown",
   "id": "1cae8068-777b-4924-b873-b432b75103da",
   "metadata": {},
   "source": [
    "<b>Step 3: Load and Display Images</b>"
   ]
  },
  {
   "cell_type": "code",
   "execution_count": 25,
   "id": "1d250609-4fac-4ed3-9736-f6d70b86f946",
   "metadata": {},
   "outputs": [
    {
     "name": "stdout",
     "output_type": "stream",
     "text": [
      "Found 42 images in the directory.\n"
     ]
    }
   ],
   "source": [
    "import cv2\n",
    "import matplotlib.pyplot as plt\n",
    "import os\n",
    "import math\n",
    "import re\n",
    "\n",
    "def natural_sort_key(s):\n",
    "    # Extracts the numerical part from filenames for natural sorting\n",
    "    return [int(text) if text.isdigit() else text.lower() for text in re.split(r'(\\d+)', s)]\n",
    "\n",
    "def display_jpeg_images_in_grid(folder_path, images_per_row=4):\n",
    "    # Collect only .jpeg images and sort numerically based on extracted numbers\n",
    "    image_paths = [os.path.join(folder_path, img) \n",
    "                   for img in sorted(os.listdir(folder_path), key=natural_sort_key) \n",
    "                   if img.endswith('.jpeg')]\n",
    "    \n",
    "    print(f\"Found {len(image_paths)} images in the directory.\")  # Debugging line\n",
    "\n",
    "    if len(image_paths) == 0:\n",
    "        print(\"No .jpeg images found in the specified directory.\")\n",
    "        return\n",
    "\n",
    "    # Load images without resizing\n",
    "    images = []\n",
    "    for path in image_paths:\n",
    "        img = cv2.imread(path)\n",
    "        if img is not None:\n",
    "            images.append(img)\n",
    "        else:\n",
    "            print(f\"Could not load image at {path}\")\n",
    "\n",
    "    # Calculate the number of rows needed based on images_per_row\n",
    "    num_images = len(images)\n",
    "    num_rows = math.ceil(num_images / images_per_row)\n",
    "\n",
    "    # Display images in a grid format\n",
    "    fig, axes = plt.subplots(num_rows, images_per_row, figsize=(20, 5 * num_rows))\n",
    "    axes = axes.flatten()  # Flatten in case of multiple rows\n",
    "\n",
    "    for i, img in enumerate(images):\n",
    "        axes[i].imshow(cv2.cvtColor(img, cv2.COLOR_BGR2RGB))\n",
    "        axes[i].axis('off')\n",
    "        axes[i].set_title(f\"Image {i + 1}\")\n",
    "\n",
    "    # Hide any extra subplots if there are fewer images than grid cells\n",
    "    for j in range(i + 1, len(axes)):\n",
    "        axes[j].axis('off')\n",
    "\n",
    "    plt.tight_layout()\n",
    "    plt.show()\n",
    "\n",
    "# Example usage (update the path as necessary)\n",
    "display_jpeg_images_in_grid(r\"/Users/raisa_hasan/Desktop/Computer Vision/Project/Car Plates\")"
   ]
  },
  {
   "cell_type": "markdown",
   "id": "c6036ebc-57f6-442f-a995-3253e7eb3efd",
   "metadata": {},
   "source": [
    "<b>Step 4.a: Detect and Annotate Objects in Images Using YOLOv5</b>"
   ]
  },
  {
   "cell_type": "code",
   "execution_count": 27,
   "id": "115977b3-5300-4f6e-a81e-34c9279b0d38",
   "metadata": {},
   "outputs": [
    {
     "name": "stderr",
     "output_type": "stream",
     "text": [
      "fatal: cannot change to '/Users/raisa_hasan/Desktop/Computer': No such file or directory\n",
      "YOLOv5 🚀 2024-11-16 Python-3.12.4 torch-2.5.1 CPU\n",
      "\n",
      "Fusing layers... \n",
      "YOLOv5m summary: 290 layers, 21172173 parameters, 0 gradients, 48.9 GFLOPs\n",
      "Adding AutoShape... \n",
      "/Users/raisa_hasan/Desktop/Computer Vision/Project/yolov5/models/common.py:892: FutureWarning: `torch.cuda.amp.autocast(args...)` is deprecated. Please use `torch.amp.autocast('cuda', args...)` instead.\n",
      "  with amp.autocast(autocast):\n",
      "/Users/raisa_hasan/Desktop/Computer Vision/Project/yolov5/models/common.py:892: FutureWarning: `torch.cuda.amp.autocast(args...)` is deprecated. Please use `torch.amp.autocast('cuda', args...)` instead.\n",
      "  with amp.autocast(autocast):\n"
     ]
    },
    {
     "name": "stdout",
     "output_type": "stream",
     "text": [
      "Processing /Users/raisa_hasan/Desktop/Computer Vision/Project/Car Plates/1.jpeg...\n",
      "Saved detected image as /Users/raisa_hasan/Desktop/Computer Vision/Project/d_images/detected_1.jpg\n",
      "Processing /Users/raisa_hasan/Desktop/Computer Vision/Project/Car Plates/10.jpeg...\n"
     ]
    },
    {
     "name": "stderr",
     "output_type": "stream",
     "text": [
      "/Users/raisa_hasan/Desktop/Computer Vision/Project/yolov5/models/common.py:892: FutureWarning: `torch.cuda.amp.autocast(args...)` is deprecated. Please use `torch.amp.autocast('cuda', args...)` instead.\n",
      "  with amp.autocast(autocast):\n"
     ]
    },
    {
     "name": "stdout",
     "output_type": "stream",
     "text": [
      "Saved detected image as /Users/raisa_hasan/Desktop/Computer Vision/Project/d_images/detected_10.jpg\n",
      "Processing /Users/raisa_hasan/Desktop/Computer Vision/Project/Car Plates/11.jpeg...\n",
      "Saved detected image as /Users/raisa_hasan/Desktop/Computer Vision/Project/d_images/detected_11.jpg\n",
      "Processing /Users/raisa_hasan/Desktop/Computer Vision/Project/Car Plates/12.jpeg...\n"
     ]
    },
    {
     "name": "stderr",
     "output_type": "stream",
     "text": [
      "/Users/raisa_hasan/Desktop/Computer Vision/Project/yolov5/models/common.py:892: FutureWarning: `torch.cuda.amp.autocast(args...)` is deprecated. Please use `torch.amp.autocast('cuda', args...)` instead.\n",
      "  with amp.autocast(autocast):\n"
     ]
    },
    {
     "name": "stdout",
     "output_type": "stream",
     "text": [
      "Saved detected image as /Users/raisa_hasan/Desktop/Computer Vision/Project/d_images/detected_12.jpg\n",
      "Processing /Users/raisa_hasan/Desktop/Computer Vision/Project/Car Plates/13.jpeg...\n",
      "Saved detected image as /Users/raisa_hasan/Desktop/Computer Vision/Project/d_images/detected_13.jpg\n",
      "Processing /Users/raisa_hasan/Desktop/Computer Vision/Project/Car Plates/14.jpeg...\n"
     ]
    },
    {
     "name": "stderr",
     "output_type": "stream",
     "text": [
      "/Users/raisa_hasan/Desktop/Computer Vision/Project/yolov5/models/common.py:892: FutureWarning: `torch.cuda.amp.autocast(args...)` is deprecated. Please use `torch.amp.autocast('cuda', args...)` instead.\n",
      "  with amp.autocast(autocast):\n",
      "/Users/raisa_hasan/Desktop/Computer Vision/Project/yolov5/models/common.py:892: FutureWarning: `torch.cuda.amp.autocast(args...)` is deprecated. Please use `torch.amp.autocast('cuda', args...)` instead.\n",
      "  with amp.autocast(autocast):\n"
     ]
    },
    {
     "name": "stdout",
     "output_type": "stream",
     "text": [
      "Saved detected image as /Users/raisa_hasan/Desktop/Computer Vision/Project/d_images/detected_14.jpg\n",
      "Processing /Users/raisa_hasan/Desktop/Computer Vision/Project/Car Plates/15.jpeg...\n",
      "Saved detected image as /Users/raisa_hasan/Desktop/Computer Vision/Project/d_images/detected_15.jpg\n",
      "Processing /Users/raisa_hasan/Desktop/Computer Vision/Project/Car Plates/16.jpeg...\n"
     ]
    },
    {
     "name": "stderr",
     "output_type": "stream",
     "text": [
      "/Users/raisa_hasan/Desktop/Computer Vision/Project/yolov5/models/common.py:892: FutureWarning: `torch.cuda.amp.autocast(args...)` is deprecated. Please use `torch.amp.autocast('cuda', args...)` instead.\n",
      "  with amp.autocast(autocast):\n",
      "/Users/raisa_hasan/Desktop/Computer Vision/Project/yolov5/models/common.py:892: FutureWarning: `torch.cuda.amp.autocast(args...)` is deprecated. Please use `torch.amp.autocast('cuda', args...)` instead.\n",
      "  with amp.autocast(autocast):\n"
     ]
    },
    {
     "name": "stdout",
     "output_type": "stream",
     "text": [
      "Saved detected image as /Users/raisa_hasan/Desktop/Computer Vision/Project/d_images/detected_16.jpg\n",
      "Processing /Users/raisa_hasan/Desktop/Computer Vision/Project/Car Plates/17.jpeg...\n",
      "Saved detected image as /Users/raisa_hasan/Desktop/Computer Vision/Project/d_images/detected_17.jpg\n",
      "Processing /Users/raisa_hasan/Desktop/Computer Vision/Project/Car Plates/18.jpeg...\n"
     ]
    },
    {
     "name": "stderr",
     "output_type": "stream",
     "text": [
      "/Users/raisa_hasan/Desktop/Computer Vision/Project/yolov5/models/common.py:892: FutureWarning: `torch.cuda.amp.autocast(args...)` is deprecated. Please use `torch.amp.autocast('cuda', args...)` instead.\n",
      "  with amp.autocast(autocast):\n",
      "/Users/raisa_hasan/Desktop/Computer Vision/Project/yolov5/models/common.py:892: FutureWarning: `torch.cuda.amp.autocast(args...)` is deprecated. Please use `torch.amp.autocast('cuda', args...)` instead.\n",
      "  with amp.autocast(autocast):\n"
     ]
    },
    {
     "name": "stdout",
     "output_type": "stream",
     "text": [
      "Saved detected image as /Users/raisa_hasan/Desktop/Computer Vision/Project/d_images/detected_18.jpg\n",
      "Processing /Users/raisa_hasan/Desktop/Computer Vision/Project/Car Plates/19.jpeg...\n",
      "Saved detected image as /Users/raisa_hasan/Desktop/Computer Vision/Project/d_images/detected_19.jpg\n",
      "Processing /Users/raisa_hasan/Desktop/Computer Vision/Project/Car Plates/2.jpeg...\n"
     ]
    },
    {
     "name": "stderr",
     "output_type": "stream",
     "text": [
      "/Users/raisa_hasan/Desktop/Computer Vision/Project/yolov5/models/common.py:892: FutureWarning: `torch.cuda.amp.autocast(args...)` is deprecated. Please use `torch.amp.autocast('cuda', args...)` instead.\n",
      "  with amp.autocast(autocast):\n",
      "/Users/raisa_hasan/Desktop/Computer Vision/Project/yolov5/models/common.py:892: FutureWarning: `torch.cuda.amp.autocast(args...)` is deprecated. Please use `torch.amp.autocast('cuda', args...)` instead.\n",
      "  with amp.autocast(autocast):\n"
     ]
    },
    {
     "name": "stdout",
     "output_type": "stream",
     "text": [
      "Saved detected image as /Users/raisa_hasan/Desktop/Computer Vision/Project/d_images/detected_2.jpg\n",
      "Processing /Users/raisa_hasan/Desktop/Computer Vision/Project/Car Plates/20.jpeg...\n",
      "Saved detected image as /Users/raisa_hasan/Desktop/Computer Vision/Project/d_images/detected_20.jpg\n"
     ]
    },
    {
     "name": "stderr",
     "output_type": "stream",
     "text": [
      "/Users/raisa_hasan/Desktop/Computer Vision/Project/yolov5/models/common.py:892: FutureWarning: `torch.cuda.amp.autocast(args...)` is deprecated. Please use `torch.amp.autocast('cuda', args...)` instead.\n",
      "  with amp.autocast(autocast):\n",
      "/Users/raisa_hasan/Desktop/Computer Vision/Project/yolov5/models/common.py:892: FutureWarning: `torch.cuda.amp.autocast(args...)` is deprecated. Please use `torch.amp.autocast('cuda', args...)` instead.\n",
      "  with amp.autocast(autocast):\n"
     ]
    },
    {
     "name": "stdout",
     "output_type": "stream",
     "text": [
      "Processing /Users/raisa_hasan/Desktop/Computer Vision/Project/Car Plates/21.jpeg...\n",
      "Saved detected image as /Users/raisa_hasan/Desktop/Computer Vision/Project/d_images/detected_21.jpg\n",
      "Processing /Users/raisa_hasan/Desktop/Computer Vision/Project/Car Plates/22.jpeg...\n",
      "Saved detected image as /Users/raisa_hasan/Desktop/Computer Vision/Project/d_images/detected_22.jpg\n",
      "Processing /Users/raisa_hasan/Desktop/Computer Vision/Project/Car Plates/23.jpeg...\n"
     ]
    },
    {
     "name": "stderr",
     "output_type": "stream",
     "text": [
      "/Users/raisa_hasan/Desktop/Computer Vision/Project/yolov5/models/common.py:892: FutureWarning: `torch.cuda.amp.autocast(args...)` is deprecated. Please use `torch.amp.autocast('cuda', args...)` instead.\n",
      "  with amp.autocast(autocast):\n",
      "/Users/raisa_hasan/Desktop/Computer Vision/Project/yolov5/models/common.py:892: FutureWarning: `torch.cuda.amp.autocast(args...)` is deprecated. Please use `torch.amp.autocast('cuda', args...)` instead.\n",
      "  with amp.autocast(autocast):\n",
      "/Users/raisa_hasan/Desktop/Computer Vision/Project/yolov5/models/common.py:892: FutureWarning: `torch.cuda.amp.autocast(args...)` is deprecated. Please use `torch.amp.autocast('cuda', args...)` instead.\n",
      "  with amp.autocast(autocast):\n"
     ]
    },
    {
     "name": "stdout",
     "output_type": "stream",
     "text": [
      "Saved detected image as /Users/raisa_hasan/Desktop/Computer Vision/Project/d_images/detected_23.jpg\n",
      "Processing /Users/raisa_hasan/Desktop/Computer Vision/Project/Car Plates/24.jpeg...\n",
      "Saved detected image as /Users/raisa_hasan/Desktop/Computer Vision/Project/d_images/detected_24.jpg\n",
      "Processing /Users/raisa_hasan/Desktop/Computer Vision/Project/Car Plates/25.jpeg...\n"
     ]
    },
    {
     "name": "stderr",
     "output_type": "stream",
     "text": [
      "/Users/raisa_hasan/Desktop/Computer Vision/Project/yolov5/models/common.py:892: FutureWarning: `torch.cuda.amp.autocast(args...)` is deprecated. Please use `torch.amp.autocast('cuda', args...)` instead.\n",
      "  with amp.autocast(autocast):\n"
     ]
    },
    {
     "name": "stdout",
     "output_type": "stream",
     "text": [
      "Saved detected image as /Users/raisa_hasan/Desktop/Computer Vision/Project/d_images/detected_25.jpg\n",
      "Processing /Users/raisa_hasan/Desktop/Computer Vision/Project/Car Plates/26.jpeg...\n"
     ]
    },
    {
     "name": "stderr",
     "output_type": "stream",
     "text": [
      "/Users/raisa_hasan/Desktop/Computer Vision/Project/yolov5/models/common.py:892: FutureWarning: `torch.cuda.amp.autocast(args...)` is deprecated. Please use `torch.amp.autocast('cuda', args...)` instead.\n",
      "  with amp.autocast(autocast):\n"
     ]
    },
    {
     "name": "stdout",
     "output_type": "stream",
     "text": [
      "Saved detected image as /Users/raisa_hasan/Desktop/Computer Vision/Project/d_images/detected_26.jpg\n",
      "Processing /Users/raisa_hasan/Desktop/Computer Vision/Project/Car Plates/27.jpeg...\n"
     ]
    },
    {
     "name": "stderr",
     "output_type": "stream",
     "text": [
      "/Users/raisa_hasan/Desktop/Computer Vision/Project/yolov5/models/common.py:892: FutureWarning: `torch.cuda.amp.autocast(args...)` is deprecated. Please use `torch.amp.autocast('cuda', args...)` instead.\n",
      "  with amp.autocast(autocast):\n"
     ]
    },
    {
     "name": "stdout",
     "output_type": "stream",
     "text": [
      "Saved detected image as /Users/raisa_hasan/Desktop/Computer Vision/Project/d_images/detected_27.jpg\n",
      "Processing /Users/raisa_hasan/Desktop/Computer Vision/Project/Car Plates/28.jpeg...\n"
     ]
    },
    {
     "name": "stderr",
     "output_type": "stream",
     "text": [
      "/Users/raisa_hasan/Desktop/Computer Vision/Project/yolov5/models/common.py:892: FutureWarning: `torch.cuda.amp.autocast(args...)` is deprecated. Please use `torch.amp.autocast('cuda', args...)` instead.\n",
      "  with amp.autocast(autocast):\n"
     ]
    },
    {
     "name": "stdout",
     "output_type": "stream",
     "text": [
      "Saved detected image as /Users/raisa_hasan/Desktop/Computer Vision/Project/d_images/detected_28.jpg\n",
      "Processing /Users/raisa_hasan/Desktop/Computer Vision/Project/Car Plates/29.jpeg...\n",
      "Saved detected image as /Users/raisa_hasan/Desktop/Computer Vision/Project/d_images/detected_29.jpg\n"
     ]
    },
    {
     "name": "stderr",
     "output_type": "stream",
     "text": [
      "/Users/raisa_hasan/Desktop/Computer Vision/Project/yolov5/models/common.py:892: FutureWarning: `torch.cuda.amp.autocast(args...)` is deprecated. Please use `torch.amp.autocast('cuda', args...)` instead.\n",
      "  with amp.autocast(autocast):\n",
      "/Users/raisa_hasan/Desktop/Computer Vision/Project/yolov5/models/common.py:892: FutureWarning: `torch.cuda.amp.autocast(args...)` is deprecated. Please use `torch.amp.autocast('cuda', args...)` instead.\n",
      "  with amp.autocast(autocast):\n"
     ]
    },
    {
     "name": "stdout",
     "output_type": "stream",
     "text": [
      "Processing /Users/raisa_hasan/Desktop/Computer Vision/Project/Car Plates/3.jpeg...\n",
      "Saved detected image as /Users/raisa_hasan/Desktop/Computer Vision/Project/d_images/detected_3.jpg\n",
      "Processing /Users/raisa_hasan/Desktop/Computer Vision/Project/Car Plates/30.jpeg...\n",
      "Saved detected image as /Users/raisa_hasan/Desktop/Computer Vision/Project/d_images/detected_30.jpg\n"
     ]
    },
    {
     "name": "stderr",
     "output_type": "stream",
     "text": [
      "/Users/raisa_hasan/Desktop/Computer Vision/Project/yolov5/models/common.py:892: FutureWarning: `torch.cuda.amp.autocast(args...)` is deprecated. Please use `torch.amp.autocast('cuda', args...)` instead.\n",
      "  with amp.autocast(autocast):\n"
     ]
    },
    {
     "name": "stdout",
     "output_type": "stream",
     "text": [
      "Processing /Users/raisa_hasan/Desktop/Computer Vision/Project/Car Plates/31.jpeg...\n",
      "Saved detected image as /Users/raisa_hasan/Desktop/Computer Vision/Project/d_images/detected_31.jpg\n"
     ]
    },
    {
     "name": "stderr",
     "output_type": "stream",
     "text": [
      "/Users/raisa_hasan/Desktop/Computer Vision/Project/yolov5/models/common.py:892: FutureWarning: `torch.cuda.amp.autocast(args...)` is deprecated. Please use `torch.amp.autocast('cuda', args...)` instead.\n",
      "  with amp.autocast(autocast):\n"
     ]
    },
    {
     "name": "stdout",
     "output_type": "stream",
     "text": [
      "Processing /Users/raisa_hasan/Desktop/Computer Vision/Project/Car Plates/32.jpeg...\n",
      "Saved detected image as /Users/raisa_hasan/Desktop/Computer Vision/Project/d_images/detected_32.jpg\n"
     ]
    },
    {
     "name": "stderr",
     "output_type": "stream",
     "text": [
      "/Users/raisa_hasan/Desktop/Computer Vision/Project/yolov5/models/common.py:892: FutureWarning: `torch.cuda.amp.autocast(args...)` is deprecated. Please use `torch.amp.autocast('cuda', args...)` instead.\n",
      "  with amp.autocast(autocast):\n"
     ]
    },
    {
     "name": "stdout",
     "output_type": "stream",
     "text": [
      "Processing /Users/raisa_hasan/Desktop/Computer Vision/Project/Car Plates/33.jpeg...\n",
      "Saved detected image as /Users/raisa_hasan/Desktop/Computer Vision/Project/d_images/detected_33.jpg\n"
     ]
    },
    {
     "name": "stderr",
     "output_type": "stream",
     "text": [
      "/Users/raisa_hasan/Desktop/Computer Vision/Project/yolov5/models/common.py:892: FutureWarning: `torch.cuda.amp.autocast(args...)` is deprecated. Please use `torch.amp.autocast('cuda', args...)` instead.\n",
      "  with amp.autocast(autocast):\n"
     ]
    },
    {
     "name": "stdout",
     "output_type": "stream",
     "text": [
      "Processing /Users/raisa_hasan/Desktop/Computer Vision/Project/Car Plates/34.jpeg...\n",
      "Saved detected image as /Users/raisa_hasan/Desktop/Computer Vision/Project/d_images/detected_34.jpg\n"
     ]
    },
    {
     "name": "stderr",
     "output_type": "stream",
     "text": [
      "/Users/raisa_hasan/Desktop/Computer Vision/Project/yolov5/models/common.py:892: FutureWarning: `torch.cuda.amp.autocast(args...)` is deprecated. Please use `torch.amp.autocast('cuda', args...)` instead.\n",
      "  with amp.autocast(autocast):\n"
     ]
    },
    {
     "name": "stdout",
     "output_type": "stream",
     "text": [
      "Processing /Users/raisa_hasan/Desktop/Computer Vision/Project/Car Plates/35.jpeg...\n"
     ]
    },
    {
     "name": "stderr",
     "output_type": "stream",
     "text": [
      "/Users/raisa_hasan/Desktop/Computer Vision/Project/yolov5/models/common.py:892: FutureWarning: `torch.cuda.amp.autocast(args...)` is deprecated. Please use `torch.amp.autocast('cuda', args...)` instead.\n",
      "  with amp.autocast(autocast):\n"
     ]
    },
    {
     "name": "stdout",
     "output_type": "stream",
     "text": [
      "Saved detected image as /Users/raisa_hasan/Desktop/Computer Vision/Project/d_images/detected_35.jpg\n",
      "Processing /Users/raisa_hasan/Desktop/Computer Vision/Project/Car Plates/36.jpeg...\n",
      "Saved detected image as /Users/raisa_hasan/Desktop/Computer Vision/Project/d_images/detected_36.jpg\n"
     ]
    },
    {
     "name": "stderr",
     "output_type": "stream",
     "text": [
      "/Users/raisa_hasan/Desktop/Computer Vision/Project/yolov5/models/common.py:892: FutureWarning: `torch.cuda.amp.autocast(args...)` is deprecated. Please use `torch.amp.autocast('cuda', args...)` instead.\n",
      "  with amp.autocast(autocast):\n"
     ]
    },
    {
     "name": "stdout",
     "output_type": "stream",
     "text": [
      "Processing /Users/raisa_hasan/Desktop/Computer Vision/Project/Car Plates/37.jpeg...\n",
      "Saved detected image as /Users/raisa_hasan/Desktop/Computer Vision/Project/d_images/detected_37.jpg\n"
     ]
    },
    {
     "name": "stderr",
     "output_type": "stream",
     "text": [
      "/Users/raisa_hasan/Desktop/Computer Vision/Project/yolov5/models/common.py:892: FutureWarning: `torch.cuda.amp.autocast(args...)` is deprecated. Please use `torch.amp.autocast('cuda', args...)` instead.\n",
      "  with amp.autocast(autocast):\n"
     ]
    },
    {
     "name": "stdout",
     "output_type": "stream",
     "text": [
      "Processing /Users/raisa_hasan/Desktop/Computer Vision/Project/Car Plates/38.jpeg...\n",
      "Saved detected image as /Users/raisa_hasan/Desktop/Computer Vision/Project/d_images/detected_38.jpg\n",
      "Processing /Users/raisa_hasan/Desktop/Computer Vision/Project/Car Plates/39.jpeg...\n"
     ]
    },
    {
     "name": "stderr",
     "output_type": "stream",
     "text": [
      "/Users/raisa_hasan/Desktop/Computer Vision/Project/yolov5/models/common.py:892: FutureWarning: `torch.cuda.amp.autocast(args...)` is deprecated. Please use `torch.amp.autocast('cuda', args...)` instead.\n",
      "  with amp.autocast(autocast):\n",
      "/Users/raisa_hasan/Desktop/Computer Vision/Project/yolov5/models/common.py:892: FutureWarning: `torch.cuda.amp.autocast(args...)` is deprecated. Please use `torch.amp.autocast('cuda', args...)` instead.\n",
      "  with amp.autocast(autocast):\n"
     ]
    },
    {
     "name": "stdout",
     "output_type": "stream",
     "text": [
      "Saved detected image as /Users/raisa_hasan/Desktop/Computer Vision/Project/d_images/detected_39.jpg\n",
      "Processing /Users/raisa_hasan/Desktop/Computer Vision/Project/Car Plates/4.jpeg...\n"
     ]
    },
    {
     "name": "stderr",
     "output_type": "stream",
     "text": [
      "/Users/raisa_hasan/Desktop/Computer Vision/Project/yolov5/models/common.py:892: FutureWarning: `torch.cuda.amp.autocast(args...)` is deprecated. Please use `torch.amp.autocast('cuda', args...)` instead.\n",
      "  with amp.autocast(autocast):\n"
     ]
    },
    {
     "name": "stdout",
     "output_type": "stream",
     "text": [
      "Saved detected image as /Users/raisa_hasan/Desktop/Computer Vision/Project/d_images/detected_4.jpg\n",
      "Processing /Users/raisa_hasan/Desktop/Computer Vision/Project/Car Plates/40.jpeg...\n"
     ]
    },
    {
     "name": "stderr",
     "output_type": "stream",
     "text": [
      "/Users/raisa_hasan/Desktop/Computer Vision/Project/yolov5/models/common.py:892: FutureWarning: `torch.cuda.amp.autocast(args...)` is deprecated. Please use `torch.amp.autocast('cuda', args...)` instead.\n",
      "  with amp.autocast(autocast):\n"
     ]
    },
    {
     "name": "stdout",
     "output_type": "stream",
     "text": [
      "Saved detected image as /Users/raisa_hasan/Desktop/Computer Vision/Project/d_images/detected_40.jpg\n",
      "Processing /Users/raisa_hasan/Desktop/Computer Vision/Project/Car Plates/41.jpeg...\n"
     ]
    },
    {
     "name": "stderr",
     "output_type": "stream",
     "text": [
      "/Users/raisa_hasan/Desktop/Computer Vision/Project/yolov5/models/common.py:892: FutureWarning: `torch.cuda.amp.autocast(args...)` is deprecated. Please use `torch.amp.autocast('cuda', args...)` instead.\n",
      "  with amp.autocast(autocast):\n"
     ]
    },
    {
     "name": "stdout",
     "output_type": "stream",
     "text": [
      "Saved detected image as /Users/raisa_hasan/Desktop/Computer Vision/Project/d_images/detected_41.jpg\n",
      "Processing /Users/raisa_hasan/Desktop/Computer Vision/Project/Car Plates/42.jpeg...\n"
     ]
    },
    {
     "name": "stderr",
     "output_type": "stream",
     "text": [
      "/Users/raisa_hasan/Desktop/Computer Vision/Project/yolov5/models/common.py:892: FutureWarning: `torch.cuda.amp.autocast(args...)` is deprecated. Please use `torch.amp.autocast('cuda', args...)` instead.\n",
      "  with amp.autocast(autocast):\n",
      "/Users/raisa_hasan/Desktop/Computer Vision/Project/yolov5/models/common.py:892: FutureWarning: `torch.cuda.amp.autocast(args...)` is deprecated. Please use `torch.amp.autocast('cuda', args...)` instead.\n",
      "  with amp.autocast(autocast):\n"
     ]
    },
    {
     "name": "stdout",
     "output_type": "stream",
     "text": [
      "Saved detected image as /Users/raisa_hasan/Desktop/Computer Vision/Project/d_images/detected_42.jpg\n",
      "Processing /Users/raisa_hasan/Desktop/Computer Vision/Project/Car Plates/43.jpg...\n",
      "Saved detected image as /Users/raisa_hasan/Desktop/Computer Vision/Project/d_images/detected_43.jpg\n",
      "Processing /Users/raisa_hasan/Desktop/Computer Vision/Project/Car Plates/5.jpeg...\n"
     ]
    },
    {
     "name": "stderr",
     "output_type": "stream",
     "text": [
      "/Users/raisa_hasan/Desktop/Computer Vision/Project/yolov5/models/common.py:892: FutureWarning: `torch.cuda.amp.autocast(args...)` is deprecated. Please use `torch.amp.autocast('cuda', args...)` instead.\n",
      "  with amp.autocast(autocast):\n",
      "/Users/raisa_hasan/Desktop/Computer Vision/Project/yolov5/models/common.py:892: FutureWarning: `torch.cuda.amp.autocast(args...)` is deprecated. Please use `torch.amp.autocast('cuda', args...)` instead.\n",
      "  with amp.autocast(autocast):\n"
     ]
    },
    {
     "name": "stdout",
     "output_type": "stream",
     "text": [
      "Saved detected image as /Users/raisa_hasan/Desktop/Computer Vision/Project/d_images/detected_5.jpg\n",
      "Processing /Users/raisa_hasan/Desktop/Computer Vision/Project/Car Plates/6.jpeg...\n",
      "Saved detected image as /Users/raisa_hasan/Desktop/Computer Vision/Project/d_images/detected_6.jpg\n",
      "Processing /Users/raisa_hasan/Desktop/Computer Vision/Project/Car Plates/7.jpeg...\n"
     ]
    },
    {
     "name": "stderr",
     "output_type": "stream",
     "text": [
      "/Users/raisa_hasan/Desktop/Computer Vision/Project/yolov5/models/common.py:892: FutureWarning: `torch.cuda.amp.autocast(args...)` is deprecated. Please use `torch.amp.autocast('cuda', args...)` instead.\n",
      "  with amp.autocast(autocast):\n",
      "/Users/raisa_hasan/Desktop/Computer Vision/Project/yolov5/models/common.py:892: FutureWarning: `torch.cuda.amp.autocast(args...)` is deprecated. Please use `torch.amp.autocast('cuda', args...)` instead.\n",
      "  with amp.autocast(autocast):\n"
     ]
    },
    {
     "name": "stdout",
     "output_type": "stream",
     "text": [
      "Saved detected image as /Users/raisa_hasan/Desktop/Computer Vision/Project/d_images/detected_7.jpg\n",
      "Processing /Users/raisa_hasan/Desktop/Computer Vision/Project/Car Plates/8.jpeg...\n",
      "Saved detected image as /Users/raisa_hasan/Desktop/Computer Vision/Project/d_images/detected_8.jpg\n",
      "Processing /Users/raisa_hasan/Desktop/Computer Vision/Project/Car Plates/9.jpeg...\n",
      "Saved detected image as /Users/raisa_hasan/Desktop/Computer Vision/Project/d_images/detected_9.jpg\n"
     ]
    },
    {
     "name": "stderr",
     "output_type": "stream",
     "text": [
      "/Users/raisa_hasan/Desktop/Computer Vision/Project/yolov5/models/common.py:892: FutureWarning: `torch.cuda.amp.autocast(args...)` is deprecated. Please use `torch.amp.autocast('cuda', args...)` instead.\n",
      "  with amp.autocast(autocast):\n"
     ]
    }
   ],
   "source": [
    "import torch\n",
    "import cv2\n",
    "import os\n",
    "\n",
    "# Path to the YOLOv5 model directory and the model weight file\n",
    "yolo_dir = r\"/Users/raisa_hasan/Desktop/Computer Vision/Project/yolov5\"\n",
    "model_path = r\"/Users/raisa_hasan/Desktop/Computer Vision/Project/yolov5m.pt\"\n",
    "\n",
    "# Load the YOLOv5 model from the correct directory\n",
    "model = torch.hub.load(yolo_dir, 'custom', path=model_path, source='local')\n",
    "\n",
    "def detect_and_save_images(input_folder, output_folder, conf_threshold=0.3):\n",
    "    # Create output folder if it doesn't exist\n",
    "    os.makedirs(output_folder, exist_ok=True)\n",
    "    \n",
    "    # List of images in the folder\n",
    "    image_files = sorted([os.path.join(input_folder, img) for img in os.listdir(input_folder) if img.endswith(('.jpg', '.jpeg', '.png'))])\n",
    "\n",
    "    for image_file in image_files:\n",
    "        # Load image\n",
    "        image = cv2.imread(image_file)\n",
    "        if image is None:\n",
    "            print(f\"Error: Could not load {image_file}\")\n",
    "            continue\n",
    "\n",
    "        print(f\"Processing {image_file}...\")\n",
    "        # Run inference\n",
    "        results = model(image)\n",
    "        \n",
    "        # Check if there are any detections\n",
    "        detections = results.xyxy[0].cpu().numpy()  # Get the detections\n",
    "        if detections.size == 0:\n",
    "            print(f\"No detections for {image_file}\")\n",
    "            continue\n",
    "\n",
    "        # Draw bounding boxes on the image\n",
    "        for *box, conf, cls in detections:\n",
    "            if conf >= conf_threshold:\n",
    "                x_min, y_min, x_max, y_max = map(int, box)\n",
    "                cv2.rectangle(image, (x_min, y_min), (x_max, y_max), (0, 255, 0), 2)\n",
    "\n",
    "        # Save the processed image with the original file name included\n",
    "        original_filename = os.path.splitext(os.path.basename(image_file))[0]\n",
    "        output_image_path = os.path.join(output_folder, f\"detected_{original_filename}.jpg\")\n",
    "        cv2.imwrite(output_image_path, image)\n",
    "        print(f\"Saved detected image as {output_image_path}\")\n",
    "\n",
    "# Folder containing the car plate images\n",
    "input_folder = r\"/Users/raisa_hasan/Desktop/Computer Vision/Project/Car Plates\"\n",
    "# Folder to save the detected images\n",
    "output_folder = r\"/Users/raisa_hasan/Desktop/Computer Vision/Project/d_images\"\n",
    "\n",
    "# Run the detection and save the images\n",
    "detect_and_save_images(input_folder, output_folder)"
   ]
  },
  {
   "cell_type": "markdown",
   "id": "a344825b-172f-48ec-ad32-b04d407bad26",
   "metadata": {},
   "source": [
    "<b>Step 4.b: Display the Detected Objects</b>"
   ]
  },
  {
   "cell_type": "code",
   "execution_count": 29,
   "id": "cdfcd466-e3fa-4571-bc89-cada2abf698e",
   "metadata": {},
   "outputs": [
    {
     "name": "stdout",
     "output_type": "stream",
     "text": [
      "Found 43 images in the directory.\n"
     ]
    }
   ],
   "source": [
    "import cv2\n",
    "import matplotlib.pyplot as plt\n",
    "import os\n",
    "import math\n",
    "import re\n",
    "\n",
    "def natural_sort_key(s):\n",
    "    # Extracts the numerical part from filenames for natural sorting\n",
    "    return [int(text) if text.isdigit() else text.lower() for text in re.split(r'(\\d+)', s)]\n",
    "\n",
    "def display_jpeg_images_in_grid(folder_path, images_per_row=4):\n",
    "    # Collect only .jpeg and .jpg images and sort numerically based on extracted numbers\n",
    "    image_paths = [os.path.join(folder_path, img) \n",
    "                   for img in sorted(os.listdir(folder_path), key=natural_sort_key) \n",
    "                   if img.endswith('.jpeg') or img.endswith('.jpg')]\n",
    "    \n",
    "    print(f\"Found {len(image_paths)} images in the directory.\")  # Debugging line\n",
    "\n",
    "    if len(image_paths) == 0:\n",
    "        print(\"No .jpeg or .jpg images found in the specified directory.\")\n",
    "        return\n",
    "\n",
    "    # Load images without resizing\n",
    "    images = []\n",
    "    for path in image_paths:\n",
    "        img = cv2.imread(path)\n",
    "        if img is not None:\n",
    "            images.append(img)\n",
    "        else:\n",
    "            print(f\"Could not load image at {path}\")\n",
    "\n",
    "    # Calculate the number of rows needed based on images_per_row\n",
    "    num_images = len(images)\n",
    "    num_rows = math.ceil(num_images / images_per_row)\n",
    "\n",
    "    # Display images in a grid format\n",
    "    fig, axes = plt.subplots(num_rows, images_per_row, figsize=(20, 5 * num_rows))\n",
    "    axes = axes.flatten()  # Flatten in case of multiple rows\n",
    "\n",
    "    for i, img in enumerate(images):\n",
    "        axes[i].imshow(cv2.cvtColor(img, cv2.COLOR_BGR2RGB))\n",
    "        axes[i].axis('off')\n",
    "        axes[i].set_title(f\"Image {i + 1}\")\n",
    "\n",
    "    # Hide any extra subplots if there are fewer images than grid cells\n",
    "    for j in range(i + 1, len(axes)):\n",
    "        axes[j].axis('off')\n",
    "\n",
    "    plt.tight_layout()\n",
    "    plt.show()\n",
    "\n",
    "# Example usage (update the path as necessary)\n",
    "display_jpeg_images_in_grid(r\"/Users/raisa_hasan/Desktop/Computer Vision/Project/Car Plates\")"
   ]
  },
  {
   "cell_type": "markdown",
   "id": "3682fff4-1f53-448b-ad23-83775997e47f",
   "metadata": {},
   "source": [
    "<b>Step 5: Image Pre-processing<b>"
   ]
  },
  {
   "cell_type": "code",
   "execution_count": 31,
   "id": "22e148ef-8743-4daf-a9ba-cce988716c7f",
   "metadata": {
    "scrolled": true
   },
   "outputs": [
    {
     "name": "stdout",
     "output_type": "stream",
     "text": [
      "Saved preprocessed image to /Users/raisa_hasan/Desktop/Computer Vision/Project/p_images/detected_3.jpg\n",
      "Saved preprocessed image to /Users/raisa_hasan/Desktop/Computer Vision/Project/p_images/detected_12.jpg\n",
      "Saved preprocessed image to /Users/raisa_hasan/Desktop/Computer Vision/Project/p_images/detected_13.jpg\n",
      "Saved preprocessed image to /Users/raisa_hasan/Desktop/Computer Vision/Project/p_images/detected_2.jpg\n",
      "Saved preprocessed image to /Users/raisa_hasan/Desktop/Computer Vision/Project/p_images/detected_11.jpg\n",
      "Saved preprocessed image to /Users/raisa_hasan/Desktop/Computer Vision/Project/p_images/detected_39.jpg\n",
      "Saved preprocessed image to /Users/raisa_hasan/Desktop/Computer Vision/Project/p_images/detected_38.jpg\n",
      "Saved preprocessed image to /Users/raisa_hasan/Desktop/Computer Vision/Project/p_images/detected_10.jpg\n",
      "Saved preprocessed image to /Users/raisa_hasan/Desktop/Computer Vision/Project/p_images/detected_1.jpg\n",
      "Saved preprocessed image to /Users/raisa_hasan/Desktop/Computer Vision/Project/p_images/detected_5.jpg\n",
      "Saved preprocessed image to /Users/raisa_hasan/Desktop/Computer Vision/Project/p_images/detected_28.jpg\n",
      "Saved preprocessed image to /Users/raisa_hasan/Desktop/Computer Vision/Project/p_images/detected_14.jpg\n",
      "Saved preprocessed image to /Users/raisa_hasan/Desktop/Computer Vision/Project/p_images/detected_15.jpg\n",
      "Saved preprocessed image to /Users/raisa_hasan/Desktop/Computer Vision/Project/p_images/detected_29.jpg\n",
      "Saved preprocessed image to /Users/raisa_hasan/Desktop/Computer Vision/Project/p_images/detected_4.jpg\n",
      "Saved preprocessed image to /Users/raisa_hasan/Desktop/Computer Vision/Project/p_images/detected_6.jpg\n",
      "Saved preprocessed image to /Users/raisa_hasan/Desktop/Computer Vision/Project/p_images/detected_17.jpg\n",
      "Saved preprocessed image to /Users/raisa_hasan/Desktop/Computer Vision/Project/p_images/detected_16.jpg\n",
      "Saved preprocessed image to /Users/raisa_hasan/Desktop/Computer Vision/Project/p_images/detected_7.jpg\n",
      "Saved preprocessed image to /Users/raisa_hasan/Desktop/Computer Vision/Project/p_images/detected_42.jpg\n",
      "Saved preprocessed image to /Users/raisa_hasan/Desktop/Computer Vision/Project/p_images/detected_43.jpg\n",
      "Saved preprocessed image to /Users/raisa_hasan/Desktop/Computer Vision/Project/p_images/detected_41.jpg\n",
      "Saved preprocessed image to /Users/raisa_hasan/Desktop/Computer Vision/Project/p_images/detected_40.jpg\n",
      "Saved preprocessed image to /Users/raisa_hasan/Desktop/Computer Vision/Project/p_images/detected_27.jpg\n",
      "Saved preprocessed image to /Users/raisa_hasan/Desktop/Computer Vision/Project/p_images/detected_33.jpg\n",
      "Saved preprocessed image to /Users/raisa_hasan/Desktop/Computer Vision/Project/p_images/detected_32.jpg\n",
      "Saved preprocessed image to /Users/raisa_hasan/Desktop/Computer Vision/Project/p_images/detected_26.jpg\n",
      "Saved preprocessed image to /Users/raisa_hasan/Desktop/Computer Vision/Project/p_images/detected_9.jpg\n",
      "Saved preprocessed image to /Users/raisa_hasan/Desktop/Computer Vision/Project/p_images/detected_30.jpg\n",
      "Saved preprocessed image to /Users/raisa_hasan/Desktop/Computer Vision/Project/p_images/detected_24.jpg\n",
      "Saved preprocessed image to /Users/raisa_hasan/Desktop/Computer Vision/Project/p_images/detected_18.jpg\n",
      "Saved preprocessed image to /Users/raisa_hasan/Desktop/Computer Vision/Project/p_images/detected_19.jpg\n",
      "Saved preprocessed image to /Users/raisa_hasan/Desktop/Computer Vision/Project/p_images/detected_25.jpg\n",
      "Saved preprocessed image to /Users/raisa_hasan/Desktop/Computer Vision/Project/p_images/detected_31.jpg\n",
      "Saved preprocessed image to /Users/raisa_hasan/Desktop/Computer Vision/Project/p_images/detected_8.jpg\n",
      "Saved preprocessed image to /Users/raisa_hasan/Desktop/Computer Vision/Project/p_images/detected_35.jpg\n",
      "Saved preprocessed image to /Users/raisa_hasan/Desktop/Computer Vision/Project/p_images/detected_21.jpg\n",
      "Saved preprocessed image to /Users/raisa_hasan/Desktop/Computer Vision/Project/p_images/detected_20.jpg\n",
      "Saved preprocessed image to /Users/raisa_hasan/Desktop/Computer Vision/Project/p_images/detected_34.jpg\n",
      "Saved preprocessed image to /Users/raisa_hasan/Desktop/Computer Vision/Project/p_images/detected_22.jpg\n",
      "Saved preprocessed image to /Users/raisa_hasan/Desktop/Computer Vision/Project/p_images/detected_36.jpg\n",
      "Saved preprocessed image to /Users/raisa_hasan/Desktop/Computer Vision/Project/p_images/detected_37.jpg\n",
      "Saved preprocessed image to /Users/raisa_hasan/Desktop/Computer Vision/Project/p_images/detected_23.jpg\n"
     ]
    }
   ],
   "source": [
    "import cv2\n",
    "import os\n",
    "import numpy as np\n",
    "from pathlib import Path\n",
    "\n",
    "# Define the paths directly if needed\n",
    "input_folder = Path(r\"/Users/raisa_hasan/Desktop/Computer Vision/Project/d_images\")   # Path to the folder with original images\n",
    "output_folder = Path(r\"/Users/raisa_hasan/Desktop/Computer Vision/Project/p_images\")  # Path to the folder for preprocessed images\n",
    "output_folder.mkdir(exist_ok=True)                         # Create output folder if it doesn't exist\n",
    "\n",
    "def preprocess_image_for_ocr(image):\n",
    "    \"\"\"\n",
    "    Prepares the image by applying Gaussian blur, CLAHE, and sharpening for OCR readability.\n",
    "    \"\"\"\n",
    "    # Convert to grayscale\n",
    "    gray = cv2.cvtColor(image, cv2.COLOR_BGR2GRAY)\n",
    "\n",
    "    # Apply Gaussian Blur to reduce noise slightly\n",
    "    blurred = cv2.GaussianBlur(gray, (3, 3), 0)\n",
    "\n",
    "    # Enhance contrast using CLAHE\n",
    "    clahe = cv2.createCLAHE(clipLimit=2.0, tileGridSize=(8, 8))\n",
    "    contrast_enhanced = clahe.apply(blurred)\n",
    "\n",
    "    # Apply sharpening with unsharp masking\n",
    "    #sharpness_strength = 1.5   # Increase this value to make sharpening stronger\n",
    "   # sharpened = cv2.addWeighted(contrast_enhanced, 1 + sharpness_strength, blurred, -sharpness_strength, 0)\n",
    "\n",
    "    return contrast_enhanced \n",
    "\n",
    "def preprocess_and_save_images(input_folder, output_folder):\n",
    "    \"\"\"\n",
    "    Preprocesses images in the input folder and saves the enhanced images to the output folder.\n",
    "    \"\"\"\n",
    "    for filename in os.listdir(input_folder):\n",
    "        if filename.lower().endswith((\".jpg\", \".jpeg\", \".png\")):\n",
    "            image_path = input_folder / filename\n",
    "            image = cv2.imread(str(image_path))\n",
    "            \n",
    "            if image is not None:\n",
    "                processed_image = preprocess_image_for_ocr(image)\n",
    "                \n",
    "                # Save processed image to output folder\n",
    "                output_path = output_folder / filename\n",
    "                cv2.imwrite(str(output_path), processed_image)\n",
    "                print(f\"Saved preprocessed image to {output_path}\")\n",
    "            else:\n",
    "                print(f\"Error loading image: {image_path}\")\n",
    "\n",
    "# Run preprocessing and save images\n",
    "preprocess_and_save_images(input_folder, output_folder)\n"
   ]
  },
  {
   "cell_type": "markdown",
   "id": "d57acf02-8d5e-41a5-a692-e7af665c54b3",
   "metadata": {},
   "source": [
    "<b>Step 6: Use EasyOCR to Detect Text on License Plates<b>"
   ]
  },
  {
   "cell_type": "code",
   "execution_count": 33,
   "id": "e8ebb50a-1ac7-442a-bc4d-9a24d61b1927",
   "metadata": {
    "scrolled": true
   },
   "outputs": [
    {
     "name": "stderr",
     "output_type": "stream",
     "text": [
      "Using CPU. Note: This module is much faster with a GPU.\n"
     ]
    },
    {
     "name": "stdout",
     "output_type": "stream",
     "text": [
      "Image: detected_1.jpg - Detected Plate Number after sharpening: 934457\n",
      "Image: detected_2.jpg - Detected Plate Number: 802694\n",
      "Image: detected_3.jpg - Detected Plate Number: 485120\n",
      "Image: detected_4.jpg - Detected Plate Number: 469534\n",
      "Image: detected_5.jpg - Detected Plate Number after sharpening: 468442\n",
      "Image: detected_6.jpg - Detected Plate Number: 454950\n",
      "Image: detected_7.jpg - Detected Plate Number: 922733\n",
      "Image: detected_8.jpg - Detected Plate Number: 7928\n",
      "Image: detected_9.jpg - Detected Plate Number: 597141\n",
      "Image: detected_10.jpg - Detected Plate Number: 19884\n",
      "Image: detected_11.jpg - No valid plate text detected.\n",
      "Image: detected_12.jpg - Detected Plate Number: 14475\n",
      "Image: detected_13.jpg - No valid plate text detected.\n",
      "Image: detected_14.jpg - Detected Plate Number after sharpening: 294510\n",
      "Image: detected_15.jpg - Detected Plate Number after sharpening: 75339\n",
      "Image: detected_16.jpg - Detected Plate Number: 526901\n",
      "Image: detected_17.jpg - Detected Plate Number after sharpening: 279995\n",
      "Image: detected_18.jpg - No valid plate text detected.\n",
      "Image: detected_19.jpg - Detected Plate Number: 843957\n",
      "Image: detected_20.jpg - Detected Plate Number: 419292\n",
      "Image: detected_21.jpg - Detected Plate Number: 534009\n",
      "Image: detected_22.jpg - Detected Plate Number: 534009\n",
      "Image: detected_23.jpg - Detected Plate Number: 574358\n",
      "Image: detected_24.jpg - Detected Plate Number: 37374\n",
      "Image: detected_25.jpg - Detected Plate Number: 341688\n",
      "Image: detected_26.jpg - Detected Plate Number: 754337\n",
      "Image: detected_27.jpg - Detected Plate Number: 644531\n",
      "Image: detected_28.jpg - No valid plate text detected.\n",
      "Image: detected_29.jpg - Detected Plate Number: 823998\n",
      "Image: detected_30.jpg - Detected Plate Number: 108902\n",
      "Image: detected_31.jpg - Detected Plate Number: 532670\n",
      "Image: detected_32.jpg - Detected Plate Number: 751616\n",
      "Image: detected_33.jpg - Detected Plate Number: 585388\n",
      "Image: detected_34.jpg - Detected Plate Number: 224585\n",
      "Image: detected_35.jpg - Detected Plate Number: 809986\n",
      "Image: detected_36.jpg - Detected Plate Number after sharpening: 671202\n",
      "Image: detected_37.jpg - Detected Plate Number: 362231\n",
      "Image: detected_38.jpg - Detected Plate Number: 50885\n",
      "Image: detected_39.jpg - Detected Plate Number: 401048\n",
      "Image: detected_40.jpg - Detected Plate Number: 67400\n",
      "Image: detected_41.jpg - No valid plate text detected.\n",
      "Image: detected_42.jpg - Detected Plate Number after sharpening: 0313\n",
      "Image: detected_43.jpg - Detected Plate Number: 4323\n"
     ]
    }
   ],
   "source": [
    "import cv2\n",
    "import os\n",
    "import easyocr\n",
    "import re\n",
    "from pathlib import Path\n",
    "\n",
    "# Initialize EasyOCR reader\n",
    "reader = easyocr.Reader(['en'], gpu=False)\n",
    "\n",
    "# Paths\n",
    "input_folder = Path(r\"/Users/raisa_hasan/Desktop/Computer Vision/Project/p_images\")  # Folder with preprocessed images\n",
    "output_folder = Path(r\"/Users/raisa_hasan/Desktop/Computer Vision/Project/c_images\")  # Folder for OCR results\n",
    "output_folder.mkdir(exist_ok=True)  # Create output folder if it doesn't exist\n",
    "\n",
    "def is_valid_plate(plate_text):\n",
    "    \"\"\"Checks if the detected text is a valid plate format (e.g., 4-6 digits).\"\"\"\n",
    "    return bool(re.fullmatch(r'\\d{4,6}', plate_text))\n",
    "\n",
    "def apply_easyocr_on_preprocessed_images(input_folder, output_folder, resize_factor=0.5, sharpness_strength=1.5):\n",
    "    \"\"\"\n",
    "    Applies EasyOCR to detect plate numbers from preprocessed images, with an optional sharpening step if initial OCR fails.\n",
    "    \"\"\"\n",
    "    # List and sort image files based on numeric order\n",
    "    image_files = sorted(\n",
    "        [f for f in os.listdir(input_folder) if re.search(r'\\d+', f)],\n",
    "        key=lambda x: int(re.search(r'\\d+', x).group())\n",
    "    )\n",
    "\n",
    "    for filename in image_files:\n",
    "        image_path = input_folder / filename\n",
    "        image = cv2.imread(str(image_path))\n",
    "\n",
    "        if image is None:\n",
    "            print(f\"Error loading image: {image_path}\")\n",
    "            continue\n",
    "\n",
    "        # Preprocess: Convert to grayscale and resize\n",
    "        gray_image = cv2.cvtColor(image, cv2.COLOR_BGR2GRAY)\n",
    "        resized_image = cv2.resize(gray_image, None, fx=resize_factor, fy=resize_factor)\n",
    "\n",
    "        # Initial OCR attempt\n",
    "        detected_text = run_ocr(resized_image)\n",
    "        if detected_text:\n",
    "            print(f\"Image: {filename} - Detected Plate Number: {detected_text}\")\n",
    "        else:\n",
    "            # Apply sharpening if no valid plate number was found\n",
    "            resized_image2 = cv2.resize(gray_image, None, fx=0.9, fy=0.9)\n",
    "            sharpened_image = sharpen_image(resized_image2, sharpness_strength)\n",
    "            detected_text = run_ocr(sharpened_image)\n",
    "            if detected_text:\n",
    "                print(f\"Image: {filename} - Detected Plate Number after sharpening: {detected_text}\")\n",
    "            else:\n",
    "                print(f\"Image: {filename} - No valid plate text detected.\")\n",
    "\n",
    "        # Optional: Save the final processed image\n",
    "        output_path = output_folder / f\"ocr_{filename}\"\n",
    "        cv2.imwrite(str(output_path), resized_image)\n",
    "\n",
    "def run_ocr(image):\n",
    "    \"\"\"Runs EasyOCR on the given image and returns the first valid plate number detected, or None if none found.\"\"\"\n",
    "    ocr_results = reader.readtext(image, detail=0)\n",
    "    valid_texts = [text for text in ocr_results if is_valid_plate(text)]\n",
    "    return valid_texts[0] if valid_texts else None\n",
    "\n",
    "def sharpen_image(image, strength):\n",
    "    \"\"\"Applies sharpening to the image using a weighted combination with a blurred version.\"\"\"\n",
    "    blurred = cv2.GaussianBlur(image, (3, 3), 0)\n",
    "    sharpened = cv2.addWeighted(image, 1 + strength, blurred, -strength, 0)\n",
    "    return sharpened\n",
    "\n",
    "# Run the OCR process on preprocessed images\n",
    "apply_easyocr_on_preprocessed_images(input_folder, output_folder, resize_factor=0.5, sharpness_strength=1.5)\n"
   ]
  },
  {
   "cell_type": "code",
   "execution_count": null,
   "id": "eea5cb42-1ef8-4135-8db0-6b720780f5f5",
   "metadata": {},
   "outputs": [],
   "source": []
  }
 ],
 "metadata": {
  "kernelspec": {
   "display_name": "Python 3 (ipykernel)",
   "language": "python",
   "name": "python3"
  },
  "language_info": {
   "codemirror_mode": {
    "name": "ipython",
    "version": 3
   },
   "file_extension": ".py",
   "mimetype": "text/x-python",
   "name": "python",
   "nbconvert_exporter": "python",
   "pygments_lexer": "ipython3",
   "version": "3.12.4"
  }
 },
 "nbformat": 4,
 "nbformat_minor": 5
}
